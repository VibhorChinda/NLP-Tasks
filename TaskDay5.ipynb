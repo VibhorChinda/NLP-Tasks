{
 "cells": [
  {
   "cell_type": "code",
   "execution_count": null,
   "metadata": {
    "id": "BSSKj8iNLfIq"
   },
   "outputs": [],
   "source": [
    "# 18BIT0284 - Vibhor Chinda [Day-5 Task]\n",
    "# Importing spacy\n",
    "import spacy\n",
    "sp = spacy.load('en_core_web_sm')"
   ]
  },
  {
   "cell_type": "code",
   "execution_count": null,
   "metadata": {
    "id": "jUvmmuVLLqq1"
   },
   "outputs": [],
   "source": [
    "example1 = \"Google was officially launched in 1998 by Larry Page and Sergey Brin to market Google Search, which has become the most used web-based search engine. Larry Page and Sergey Brin, students at Stanford University in California, developed a search algorithm at first known as Backrub in 1996, with the help of Scott Hassan and Alan Steremberg. The search engine soon proved successful and the expanding company moved several times, finally settling at Mountain View in 2003. This marked a phase of rapid growth, with the company making its initial public offering in 2004 and quickly becoming one of the world's largest media companies. The company launched Google News in 2002, Gmail in 2004, Google Maps in 2005, Google Chrome in 2008, and the social network known as Google+ in 2011 (which was shut down in April 2019), in addition to many other products. In 2015, Google became the main subsidiary of the holding company Alphabet Inc. The search engine went through many updates in attempts to combat search engine optimization abuse, provide dynamic updating of results, and make the indexing system rapid and flexible. Search results started to be personalized in 2005, and later Google Suggest autocompletion was introduced. From 2007, Universal Search provided all types of content, not just text content, in search results. Google has engaged in partnerships with NASA, AOL, Sun Microsystems, News Corporation, Sky UK, and others. The company set up a charitable offshoot, Google.org, in 2005. The name Google is a misspelling of Googol, the number 1 followed by 100 zeros, which was picked to signify that the search engine was intended to provide large quantities of information.\""
   ]
  },
  {
   "cell_type": "code",
   "execution_count": null,
   "metadata": {
    "colab": {
     "base_uri": "https://localhost:8080/",
     "height": 54
    },
    "id": "oFPOJW9QL18e",
    "outputId": "7e9a0646-88f9-4a02-f914-14f146218334"
   },
   "outputs": [
    {
     "data": {
      "text/plain": [
       "Google was officially launched in 1998 by Larry Page and Sergey Brin to market Google Search, which has become the most used web-based search engine. Larry Page and Sergey Brin, students at Stanford University in California, developed a search algorithm at first known as Backrub in 1996, with the help of Scott Hassan and Alan Steremberg. The search engine soon proved successful and the expanding company moved several times, finally settling at Mountain View in 2003. This marked a phase of rapid growth, with the company making its initial public offering in 2004 and quickly becoming one of the world's largest media companies. The company launched Google News in 2002, Gmail in 2004, Google Maps in 2005, Google Chrome in 2008, and the social network known as Google+ in 2011 (which was shut down in April 2019), in addition to many other products. In 2015, Google became the main subsidiary of the holding company Alphabet Inc. The search engine went through many updates in attempts to combat search engine optimization abuse, provide dynamic updating of results, and make the indexing system rapid and flexible. Search results started to be personalized in 2005, and later Google Suggest autocompletion was introduced. From 2007, Universal Search provided all types of content, not just text content, in search results. Google has engaged in partnerships with NASA, AOL, Sun Microsystems, News Corporation, Sky UK, and others. The company set up a charitable offshoot, Google.org, in 2005. The name Google is a misspelling of Googol, the number 1 followed by 100 zeros, which was picked to signify that the search engine was intended to provide large quantities of information."
      ]
     },
     "execution_count": 3,
     "metadata": {
      "tags": []
     },
     "output_type": "execute_result"
    }
   ],
   "source": [
    "doc1 = sp(example1)\n",
    "doc1"
   ]
  },
  {
   "cell_type": "code",
   "execution_count": null,
   "metadata": {
    "colab": {
     "base_uri": "https://localhost:8080/",
     "height": 816
    },
    "id": "maLm-AGyL8qY",
    "outputId": "e92fc558-1d6d-4abc-c5cd-762386ef637f"
   },
   "outputs": [
    {
     "name": "stdout",
     "output_type": "stream",
     "text": [
      "Google ORG\n",
      "1998 DATE\n",
      "Larry Page PERSON\n",
      "Sergey Brin PERSON\n",
      "Google Search PERSON\n",
      "Larry Page PERSON\n",
      "Sergey Brin PERSON\n",
      "Stanford University ORG\n",
      "California GPE\n",
      "first ORDINAL\n",
      "Backrub ORG\n",
      "1996 DATE\n",
      "Scott Hassan PERSON\n",
      "Alan Steremberg PERSON\n",
      "Mountain View FAC\n",
      "2003 DATE\n",
      "2004 DATE\n",
      "one CARDINAL\n",
      "Google News ORG\n",
      "2002 DATE\n",
      "Gmail PERSON\n",
      "2004 DATE\n",
      "Google Maps PERSON\n",
      "2005 DATE\n",
      "Google Chrome ORG\n",
      "2008 DATE\n",
      "2011 DATE\n",
      "April 2019 DATE\n",
      "2015 DATE\n",
      "Google ORG\n",
      "Alphabet Inc. ORG\n",
      "2005 DATE\n",
      "Google Suggest ORG\n",
      "2007 DATE\n",
      "Universal Search ORG\n",
      "Google ORG\n",
      "NASA ORG\n",
      "AOL ORG\n",
      "Sun Microsystems ORG\n",
      "News Corporation ORG\n",
      "Sky UK GPE\n",
      "Google.org ORG\n",
      "2005 DATE\n",
      "Google ORG\n",
      "Googol PRODUCT\n",
      "1 CARDINAL\n",
      "100 zeros MONEY\n"
     ]
    }
   ],
   "source": [
    "for ent in doc1.ents:\n",
    "  print(ent.text, ent.label_)"
   ]
  },
  {
   "cell_type": "code",
   "execution_count": null,
   "metadata": {
    "colab": {
     "base_uri": "https://localhost:8080/",
     "height": 54
    },
    "id": "tPhvyf3vMEVJ",
    "outputId": "f8c777fc-cd89-44ad-b1ed-5c0ae10574c3"
   },
   "outputs": [
    {
     "data": {
      "text/plain": [
       "Millie Bobby Brown (born 19 February 2004)[1] is an English actress and producer.[2] She rose to prominence for her role as Eleven in the Netflix science fiction series Stranger Things (2016–present),[3] for which she received Primetime Emmy Award nominations for Outstanding Supporting Actress in a Drama Series.[4] She starred in and produced the mystery film Enola Holmes (2020) and starred in the monster film Godzilla: King of the Monsters (2019). In 2018, she was featured in the Time 100 list of the world's most influential people[5] and is the youngest person to be appointed a UNICEF Goodwill Ambassador. Brown was born in Marbella, Málaga, Andalusia, Spain,[6] the third of four children of English parents, Kelly and Robert Brown.[7] The family moved to Bournemouth, Dorset, when she was around four years old, then to Windermere, Florida, four years later.[8][9] She was born with partial hearing in one ear, gradually losing all hearing in that ear over several years.In 2013, Brown made her acting debut as a guest star in the ABC fantasy drama series Once Upon a Time in Wonderland, a spin-off of Once Upon a Time, portraying the role of Young Alice. In 2014, she had a starring role in the BBC America paranormal drama-thriller series Intruders as Madison O'Donnell.[11] She then made guest appearances in the CBS police procedural drama NCIS, the ABC sitcom Modern Family, and the ABC medical drama series Grey's Anatomy."
      ]
     },
     "execution_count": 5,
     "metadata": {
      "tags": []
     },
     "output_type": "execute_result"
    }
   ],
   "source": [
    "example2 = \"Millie Bobby Brown (born 19 February 2004)[1] is an English actress and producer.[2] She rose to prominence for her role as Eleven in the Netflix science fiction series Stranger Things (2016–present),[3] for which she received Primetime Emmy Award nominations for Outstanding Supporting Actress in a Drama Series.[4] She starred in and produced the mystery film Enola Holmes (2020) and starred in the monster film Godzilla: King of the Monsters (2019). In 2018, she was featured in the Time 100 list of the world's most influential people[5] and is the youngest person to be appointed a UNICEF Goodwill Ambassador. Brown was born in Marbella, Málaga, Andalusia, Spain,[6] the third of four children of English parents, Kelly and Robert Brown.[7] The family moved to Bournemouth, Dorset, when she was around four years old, then to Windermere, Florida, four years later.[8][9] She was born with partial hearing in one ear, gradually losing all hearing in that ear over several years.In 2013, Brown made her acting debut as a guest star in the ABC fantasy drama series Once Upon a Time in Wonderland, a spin-off of Once Upon a Time, portraying the role of Young Alice. In 2014, she had a starring role in the BBC America paranormal drama-thriller series Intruders as Madison O'Donnell.[11] She then made guest appearances in the CBS police procedural drama NCIS, the ABC sitcom Modern Family, and the ABC medical drama series Grey's Anatomy.\"\n",
    "doc2 = sp(example2)\n",
    "doc2"
   ]
  },
  {
   "cell_type": "code",
   "execution_count": null,
   "metadata": {
    "colab": {
     "base_uri": "https://localhost:8080/",
     "height": 799
    },
    "id": "7sujKpZFMPe5",
    "outputId": "d772126c-0600-4321-d8a5-ce222953c5ff"
   },
   "outputs": [
    {
     "name": "stdout",
     "output_type": "stream",
     "text": [
      "Millie Bobby Brown PERSON\n",
      "19 CARDINAL\n",
      "English NORP\n",
      "Eleven PERSON\n",
      "Netflix GPE\n",
      "Stranger Things WORK_OF_ART\n",
      "Primetime Emmy Award LOC\n",
      "Outstanding Supporting Actress WORK_OF_ART\n",
      "2020 DATE\n",
      "Godzilla PERSON\n",
      "2018 DATE\n",
      "100 CARDINAL\n",
      "UNICEF Goodwill ORG\n",
      "Brown PERSON\n",
      "Marbella GPE\n",
      "Málaga GPE\n",
      "Andalusia GPE\n",
      "third ORDINAL\n",
      "four CARDINAL\n",
      "English LANGUAGE\n",
      "Kelly PERSON\n",
      "Robert Brown.[7 PERSON\n",
      "Bournemouth ORG\n",
      "Dorset GPE\n",
      "four years old DATE\n",
      "Windermere GPE\n",
      "Florida GPE\n",
      "four years DATE\n",
      "one CARDINAL\n",
      "several years DATE\n",
      "2013 DATE\n",
      "Brown PERSON\n",
      "ABC ORG\n",
      "Once Upon a Time in Wonderland WORK_OF_ART\n",
      "Once Upon a Time WORK_OF_ART\n",
      "Young Alice WORK_OF_ART\n",
      "2014 DATE\n",
      "BBC America LOC\n",
      "Intruders ORG\n",
      "Madison PERSON\n",
      "CBS ORG\n",
      "NCIS ORG\n",
      "ABC ORG\n",
      "Modern Family PERSON\n",
      "ABC ORG\n",
      "Grey's Anatomy WORK_OF_ART\n"
     ]
    }
   ],
   "source": [
    "for ent in doc2.ents:\n",
    "  print(ent.text, ent.label_)"
   ]
  },
  {
   "cell_type": "code",
   "execution_count": null,
   "metadata": {
    "id": "ZABD0vGJMUbH"
   },
   "outputs": [],
   "source": [
    "# ORG, PERSON, GPE, CARDINAL, LOC, DATE, TIME, QUANTITY, PRODUCT, WORK_OF_ART, FAC"
   ]
  },
  {
   "cell_type": "code",
   "execution_count": null,
   "metadata": {
    "id": "AQKihCTIMdUt"
   },
   "outputs": [],
   "source": [
    "# Querying\n",
    "locs = [(\"Omnicom\",\"IN\",\"New York\"),(\"DDB Neendham\",\"IN\",\"New York\"),(\"Qwerty\",\"TNS\",\"Atlanta\"),(\"asdfg\",\"TNS\",\"Atlanta\")]"
   ]
  },
  {
   "cell_type": "code",
   "execution_count": null,
   "metadata": {
    "colab": {
     "base_uri": "https://localhost:8080/",
     "height": 34
    },
    "id": "YJD2WvTCMgdm",
    "outputId": "cc94f06f-6865-4fc4-d73e-122347594c4d"
   },
   "outputs": [
    {
     "name": "stdout",
     "output_type": "stream",
     "text": [
      "['Qwerty', 'asdfg']\n"
     ]
    }
   ],
   "source": [
    "query = [e1 for (e1,rel,e2) in locs if e2==\"Atlanta\"]\n",
    "print(query)"
   ]
  },
  {
   "cell_type": "code",
   "execution_count": null,
   "metadata": {
    "id": "Y7nieby3Mylz"
   },
   "outputs": [],
   "source": []
  }
 ],
 "metadata": {
  "colab": {
   "name": "Lab_5.ipynb",
   "provenance": []
  },
  "kernelspec": {
   "display_name": "Python 3",
   "language": "python",
   "name": "python3"
  },
  "language_info": {
   "codemirror_mode": {
    "name": "ipython",
    "version": 3
   },
   "file_extension": ".py",
   "mimetype": "text/x-python",
   "name": "python",
   "nbconvert_exporter": "python",
   "pygments_lexer": "ipython3",
   "version": "3.6.11"
  }
 },
 "nbformat": 4,
 "nbformat_minor": 1
}
